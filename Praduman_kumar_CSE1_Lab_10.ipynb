{
 "cells": [
  {
   "cell_type": "markdown",
   "metadata": {
    "colab_type": "text",
    "id": "tzG6pKqMu9Ox"
   },
   "source": [
    "Problem Statement 1"
   ]
  },
  {
   "cell_type": "code",
   "execution_count": 0,
   "metadata": {
    "colab": {},
    "colab_type": "code",
    "id": "iyi7kcRquu50"
   },
   "outputs": [],
   "source": [
    "import matplotlib.pyplot as plt\n",
    "from matplotlib import style\n",
    "import numpy as np\n",
    "#from sklearn import preprocessing, cross_validation\n",
    "import pandas as pd"
   ]
  },
  {
   "cell_type": "code",
   "execution_count": 0,
   "metadata": {
    "colab": {},
    "colab_type": "code",
    "id": "jZR-Wkdvu4x0"
   },
   "outputs": [],
   "source": [
    "import numpy as np\n",
    "\n",
    "np.random.seed(123)\n",
    "\n",
    "allwalks = []\n",
    "\n",
    "for i in range(250):\n",
    "    randwalk = [0]\n",
    "    for x in range(100):\n",
    "        step = randwalk[-1]\n",
    "        dice = np.random.randint(1,7)\n",
    "        if dice <= 2 :\n",
    "            step = max(0, step - 1)\n",
    "\n",
    "        elif dice<=5:\n",
    "            step += 1\n",
    "\n",
    "        else:\n",
    "            step = step + np.random.randint(1,7)\n",
    "        \n",
    "    print(step)"
   ]
  },
  {
   "cell_type": "markdown",
   "metadata": {
    "colab_type": "text",
    "id": "GXDNIPFIvbYT"
   },
   "source": [
    "**Problem Statement 2**"
   ]
  },
  {
   "cell_type": "markdown",
   "metadata": {
    "colab_type": "text",
    "id": "PXbPXcF3vzVO"
   },
   "source": [
    "Random Data for Linear Regression"
   ]
  },
  {
   "cell_type": "code",
   "execution_count": 0,
   "metadata": {
    "colab": {
     "base_uri": "https://localhost:8080/",
     "height": 588
    },
    "colab_type": "code",
    "id": "lzlxQvy6ve-g",
    "outputId": "9888d611-4229-418c-d216-5c41e27f38b5"
   },
   "outputs": [
    {
     "name": "stdout",
     "output_type": "stream",
     "text": [
      "         X0        X1        X2        X3         Y\n",
      "0 -1.211185 -0.612007  0.319056  1.200389  1.199336\n",
      "1  0.468101  0.238477 -0.493843  0.815864  1.336548\n",
      "2 -0.014570 -1.909639 -0.500241 -0.010385  0.175724\n",
      "3  1.324876  0.602777  0.682997  0.382085  2.697772\n",
      "4  0.117402 -0.588450 -0.387619 -0.384884  0.376184\n",
      "          X0        X1        X2        X3         Y\n",
      "95  1.333323 -0.722833  0.492108  0.955427  1.625288\n",
      "96  0.550497  2.348524 -0.508807 -0.715509  1.838115\n",
      "97 -0.247246  0.006252 -0.024900  0.559460  1.537837\n",
      "98 -2.126523 -0.645396 -2.805719  0.489254 -0.663673\n",
      "99 -0.978918  0.894680  0.375197 -0.704418  1.211242\n",
      "<class 'pandas.core.frame.DataFrame'>\n",
      "RangeIndex: 100 entries, 0 to 99\n",
      "Data columns (total 5 columns):\n",
      " #   Column  Non-Null Count  Dtype  \n",
      "---  ------  --------------  -----  \n",
      " 0   X0      100 non-null    float64\n",
      " 1   X1      100 non-null    float64\n",
      " 2   X2      100 non-null    float64\n",
      " 3   X3      100 non-null    float64\n",
      " 4   Y       100 non-null    float64\n",
      "dtypes: float64(5)\n",
      "memory usage: 4.0 KB\n",
      "None\n",
      "               X0          X1          X2          X3           Y\n",
      "count  100.000000  100.000000  100.000000  100.000000  100.000000\n",
      "mean    -0.035862    0.115630   -0.015325   -0.101707    1.017210\n",
      "std      1.030966    0.920740    1.050708    0.966645    0.809092\n",
      "min     -3.252484   -2.752479   -2.805719   -2.560696   -1.073801\n",
      "25%     -0.643870   -0.549215   -0.521365   -0.707191    0.450387\n",
      "50%      0.013635    0.173873   -0.007509   -0.096951    1.089100\n",
      "75%      0.697043    0.763871    0.645496    0.481474    1.563333\n",
      "max      1.868673    2.348524    1.948593    2.227618    3.024383\n"
     ]
    }
   ],
   "source": [
    "import numpy as np\n",
    "import pandas as pd\n",
    "import scipy\n",
    "import random\n",
    "from scipy.stats import norm\n",
    "random.seed(1)\n",
    "n_features = 4\n",
    "X = []\n",
    "for i in range(n_features):\n",
    "  X_i = scipy.stats.norm.rvs(0, 1, 100)\n",
    "  X.append(X_i)\n",
    "#print(X)\n",
    "eps = scipy.stats.norm.rvs(0, 0.25,100)\n",
    "y = 1 + (0.4 * X[0]) + eps + (0.5 * X[1]) + (0.3 * X[2]) + (0.4 * X[3])\n",
    "data_mlr = {'X0': X[0],'X1':X[1],'X2':X[2],'X3':X[3],'Y': y }\n",
    "df = pd.DataFrame(data_mlr)\n",
    "print(df.head())\n",
    "print(df.tail())\n",
    "print(df.info())\n",
    "print(df.describe())\n",
    "#df.to_csv('file1.csv')"
   ]
  },
  {
   "cell_type": "markdown",
   "metadata": {
    "colab_type": "text",
    "id": "FtzFHLiqwBuG"
   },
   "source": [
    "Random Data for Logistic Regression"
   ]
  },
  {
   "cell_type": "code",
   "execution_count": 0,
   "metadata": {
    "colab": {
     "base_uri": "https://localhost:8080/",
     "height": 588
    },
    "colab_type": "code",
    "id": "Vem3Jn6gwHt6",
    "outputId": "06679efe-dc6f-4cdb-f9cc-f2ad501085f9"
   },
   "outputs": [
    {
     "name": "stdout",
     "output_type": "stream",
     "text": [
      "         X0        X1        X2        X3  Y\n",
      "0  0.034879  0.399585 -0.191302 -1.718385  1\n",
      "1 -0.017584  0.106947 -1.762069  1.120224  1\n",
      "2  0.197969  0.114783 -1.213183  1.029647  1\n",
      "3  0.303776 -0.518547  0.186349  0.957269  1\n",
      "4 -0.015062  0.522144 -0.163056 -0.814922  1\n",
      "          X0        X1        X2        X3  Y\n",
      "95 -0.302635  0.408701  0.385752  0.315886  1\n",
      "96 -1.309065 -1.473371 -0.321244 -0.351335  0\n",
      "97  1.282450  0.932429 -0.333868 -0.835278  1\n",
      "98 -0.718583 -0.108525  0.950665  0.807524  1\n",
      "99  0.824862 -0.723433  0.434554  0.842744  1\n",
      "<class 'pandas.core.frame.DataFrame'>\n",
      "RangeIndex: 100 entries, 0 to 99\n",
      "Data columns (total 5 columns):\n",
      " #   Column  Non-Null Count  Dtype  \n",
      "---  ------  --------------  -----  \n",
      " 0   X0      100 non-null    float64\n",
      " 1   X1      100 non-null    float64\n",
      " 2   X2      100 non-null    float64\n",
      " 3   X3      100 non-null    float64\n",
      " 4   Y       100 non-null    int64  \n",
      "dtypes: float64(4), int64(1)\n",
      "memory usage: 4.0 KB\n",
      "None\n",
      "               X0          X1          X2          X3           Y\n",
      "count  100.000000  100.000000  100.000000  100.000000  100.000000\n",
      "mean    -0.094188   -0.170239   -0.084583    0.076736    0.820000\n",
      "std      0.951848    1.058888    0.835950    1.106163    0.386123\n",
      "min     -2.364864   -2.912188   -2.139074   -2.841694    0.000000\n",
      "25%     -0.766513   -0.798815   -0.648642   -0.680350    1.000000\n",
      "50%     -0.048887   -0.110543   -0.094618    0.205108    1.000000\n",
      "75%      0.558554    0.525517    0.467961    0.955878    1.000000\n",
      "max      1.666812    2.085402    1.951032    3.107764    1.000000\n"
     ]
    }
   ],
   "source": [
    "n_features = 4\n",
    "X = []\n",
    "for i in range(n_features):\n",
    "  X_i = scipy.stats.norm.rvs(0, 1, 100)\n",
    "  X.append(X_i)\n",
    "#print(X)\n",
    "a1 = (np.exp(1 + (0.5 * X[0]) + (0.4 * X[1]) + (0.3 * X[2]) + (0.5 * X[3]))/(1 + np.exp(1 + (0.5 * X[0]) + (0.4 * X[1]) + (0.3 * X[2]) + (0.5 * X[3]))))\n",
    "#print(a1)\n",
    "y1 = []\n",
    "for i in a1:\n",
    "  if (i>=0.5):\n",
    "    y1.append(1)\n",
    "  else:\n",
    "    y1.append(0)\n",
    "#print(y1)\n",
    "data_lr = {'X0': X[0],'X1':X[1],'X2':X[2],'X3':X[3],'Y': y1 }\n",
    "df1 = pd.DataFrame(data_lr)\n",
    "print(df1.head())\n",
    "print(df1.tail())\n",
    "print(df1.info())\n",
    "print(df1.describe())"
   ]
  },
  {
   "cell_type": "markdown",
   "metadata": {
    "colab_type": "text",
    "id": "vFJ2ozvmwZLj"
   },
   "source": [
    "Random Data for K means Clustering"
   ]
  },
  {
   "cell_type": "code",
   "execution_count": 0,
   "metadata": {
    "colab": {
     "base_uri": "https://localhost:8080/",
     "height": 786
    },
    "colab_type": "code",
    "id": "ZyfVADOFwW__",
    "outputId": "c71f163a-4b9d-49dc-9d1e-d3375c18927f"
   },
   "outputs": [
    {
     "data": {
      "image/png": "[encoded data removed]",
      "text/plain": [
       "<Figure size 432x288 with 1 Axes>"
      ]
     },
     "metadata": {
      "needs_background": "light",
      "tags": []
     },
     "output_type": "display_data"
    },
    {
     "name": "stdout",
     "output_type": "stream",
     "text": [
      "         X0        X1\n",
      "0 -0.878560 -0.188145\n",
      "1 -1.868856 -1.616046\n",
      "2 -1.230696 -1.269338\n",
      "3 -1.347937 -0.536326\n",
      "4 -1.502794 -0.645939\n",
      "          X0        X1\n",
      "95  1.086774  1.075651\n",
      "96  2.773909  2.975763\n",
      "97  1.011884  1.285037\n",
      "98  1.347903  2.172351\n",
      "99  2.520001  2.236212\n",
      "<class 'pandas.core.frame.DataFrame'>\n",
      "RangeIndex: 100 entries, 0 to 99\n",
      "Data columns (total 2 columns):\n",
      " #   Column  Non-Null Count  Dtype  \n",
      "---  ------  --------------  -----  \n",
      " 0   X0      100 non-null    float64\n",
      " 1   X1      100 non-null    float64\n",
      "dtypes: float64(2)\n",
      "memory usage: 1.7 KB\n",
      "None\n",
      "               X0          X1\n",
      "count  100.000000  100.000000\n",
      "mean     0.472013    0.473887\n",
      "std      1.543666    1.724910\n",
      "min     -1.900263   -1.960689\n",
      "25%     -0.978833   -1.243234\n",
      "50%      0.502413    0.503910\n",
      "75%      1.866364    2.180253\n",
      "max      2.976076    2.994128\n"
     ]
    }
   ],
   "source": [
    "X_a= -2 * np.random.rand(100,2)\n",
    "X_b = 1 + 2 * np.random.rand(50,2)\n",
    "X_a[50:100, :] = X_b\n",
    "plt.scatter(X_a[ : , 0], X_a[ :, 1], s = 50)\n",
    "plt.show()\n",
    "data_kmeans = {'X0': X_a[:,0],'X1':X_a[:,1]}\n",
    "df3 = pd.DataFrame(data_kmeans)\n",
    "print(df3.head())\n",
    "print(df3.tail())\n",
    "print(df3.info())\n",
    "print(df3.describe())"
   ]
  },
  {
   "cell_type": "markdown",
   "metadata": {
    "colab_type": "text",
    "id": "6qEOJsqgwmgN"
   },
   "source": [
    "**Problem Statement 3**"
   ]
  },
  {
   "cell_type": "markdown",
   "metadata": {
    "colab_type": "text",
    "id": "llNrsMUfwtRa"
   },
   "source": [
    "Linear Regression using gradient descent"
   ]
  },
  {
   "cell_type": "code",
   "execution_count": 0,
   "metadata": {
    "colab": {},
    "colab_type": "code",
    "id": "gecgpQimwu0q"
   },
   "outputs": [],
   "source": [
    "X = df.iloc[:,0].values\n",
    "#print(X)\n",
    "y = df.iloc[:,4].values\n",
    "b1 = 0\n",
    "b0 = 0\n",
    "l = 0.001\n",
    "epochs = 100\n",
    " \n",
    "n = float(len(X))\n",
    "for i in range(epochs):\n",
    "  y_p = b1*X + b0\n",
    "  loss = np.sum(y_p - y1)**2\n",
    "  d1 = (-2/n) * sum(X * (y - y_p))\n",
    "  d0 = (-2/n) * sum(y - y_p)\n",
    "  b1 = b1 - (l*d1)\n",
    "  b0 = b0 - (l*d0)\n",
    "\n",
    "print(b1,b0)"
   ]
  },
  {
   "cell_type": "markdown",
   "metadata": {
    "colab_type": "text",
    "id": "HOlgEPX6w4lC"
   },
   "source": [
    "Logistic regression using Gradient descent"
   ]
  },
  {
   "cell_type": "code",
   "execution_count": 0,
   "metadata": {
    "colab": {
     "base_uri": "https://localhost:8080/",
     "height": 185
    },
    "colab_type": "code",
    "id": "OUQB7wIzw5f4",
    "outputId": "7ac67723-dba0-48e8-8d2b-6f9d3b7505ec"
   },
   "outputs": [
    {
     "name": "stdout",
     "output_type": "stream",
     "text": [
      "0.6931471805599453\n",
      "0.47065560105140886\n",
      "0.46994402814249897\n",
      "0.4692580346364408\n",
      "0.4685968942294451\n",
      "0.46795988715766873\n",
      "0.46734630084527634\n",
      "0.4667554305665357\n",
      "0.4661865801127636\n",
      "0.4656390624552501\n"
     ]
    }
   ],
   "source": [
    "X1 = df1.iloc[:,0:4].values\n",
    "y1 = df1.iloc[:,4].values\n",
    "\n",
    "def sigmoid(Z):\n",
    "  return 1 /(1+np.exp(-Z))\n",
    "\n",
    "def loss(y1,y_hat):\n",
    "  return -np.mean(y1*np.log(y_hat) + (1-y1)*(np.log(1-y_hat)))\n",
    "\n",
    "W = np.zeros((4,1))\n",
    "b = np.zeros((1,1))\n",
    "\n",
    "m = len(y1)\n",
    "lr = 0.001\n",
    "for epoch in range(1000):\n",
    "  Z = np.matmul(X1,W)+b\n",
    "  A = sigmoid(Z)\n",
    "  logistic_loss = loss(y1,A)\n",
    "  dz = A - y1\n",
    "  dw = 1/m * np.matmul(X1.T,dz)\n",
    "  db = np.sum(dz)\n",
    "\n",
    "  W = W - lr*dw\n",
    "  b = b - lr*db\n",
    "\n",
    "  if epoch % 100 == 0:\n",
    "    print(logistic_loss)"
   ]
  },
  {
   "cell_type": "markdown",
   "metadata": {
    "colab_type": "text",
    "id": "N_CbmTDZxBUk"
   },
   "source": [
    "\n",
    "\n",
    "Linear Regreesion using L1 Regularization"
   ]
  },
  {
   "cell_type": "code",
   "execution_count": 0,
   "metadata": {
    "colab": {
     "base_uri": "https://localhost:8080/",
     "height": 34
    },
    "colab_type": "code",
    "id": "e0EeZ39UxE2S",
    "outputId": "c2a161ab-0392-402d-8264-6160da8a841b"
   },
   "outputs": [
    {
     "name": "stdout",
     "output_type": "stream",
     "text": [
      "0.07017920509917933 0.18479661329768696\n"
     ]
    }
   ],
   "source": [
    "X = df.iloc[:,0].values\n",
    "#print(X)\n",
    "y = df.iloc[:,4].values\n",
    "b1 = 0\n",
    "b0 = 0\n",
    "l = 0.001\n",
    "epochs = 100\n",
    "lam = 0.1\n",
    " \n",
    "n = float(len(X))\n",
    "for i in range(epochs):\n",
    "  y_p = b1*X + b0\n",
    "  loss = np.sum(y_p - y1)**2 + (lam * b1)\n",
    "  d1 = (-2/n) * sum(X * (y - y_p)) + lam\n",
    "  d0 = (-2/n) * sum(y - y_p)\n",
    "  b1 = b1 - (l*d1)\n",
    "  b0 = b0 - (l*d0)\n",
    "\n",
    "print(b1,b0)"
   ]
  },
  {
   "cell_type": "markdown",
   "metadata": {
    "colab_type": "text",
    "id": "wGj_P1FpxNad"
   },
   "source": [
    "Linear Regreesion using L2 Regularization"
   ]
  },
  {
   "cell_type": "code",
   "execution_count": 0,
   "metadata": {
    "colab": {
     "base_uri": "https://localhost:8080/",
     "height": 34
    },
    "colab_type": "code",
    "id": "fKcdmcyGxOko",
    "outputId": "cc2fe2bf-d01c-4ab4-9062-32d5c4e771b0"
   },
   "outputs": [
    {
     "name": "stdout",
     "output_type": "stream",
     "text": [
      "0.07882778582232905 0.18482682080368076\n"
     ]
    }
   ],
   "source": [
    "X = df.iloc[:,0].values\n",
    "#print(X)\n",
    "y = df.iloc[:,4].values\n",
    "b1 = 0\n",
    "b0 = 0\n",
    "l = 0.001\n",
    "epochs = 100\n",
    "lam = 0.1\n",
    " \n",
    "n = float(len(X))\n",
    "for i in range(epochs):\n",
    "  y_p = b1*X + b0\n",
    "  loss = np.sum(y_p - y1)**2 + ((lam/2) * b1)\n",
    "  d1 = (-2/n) * sum(X * (y - y_p)) + (lam *b1)\n",
    "  d0 = (-2/n) * sum(y - y_p)\n",
    "  b1 = b1 - (l*d1)\n",
    "  b0 = b0 - (l*d0)\n",
    "\n",
    "print(b1,b0)"
   ]
  },
  {
   "cell_type": "markdown",
   "metadata": {
    "colab_type": "text",
    "id": "C_ZQd-fWxV2r"
   },
   "source": [
    "Logistic regression using L1 regualrization"
   ]
  },
  {
   "cell_type": "code",
   "execution_count": 0,
   "metadata": {
    "colab": {
     "base_uri": "https://localhost:8080/",
     "height": 185
    },
    "colab_type": "code",
    "id": "S-yx20nwxW6I",
    "outputId": "b2abfd20-9ef8-4343-ef35-9231c819ae8d"
   },
   "outputs": [
    {
     "name": "stdout",
     "output_type": "stream",
     "text": [
      "0.6931471805599453\n",
      "0.07324735415473316\n",
      "-0.31846038122729964\n",
      "-0.7042326461954345\n",
      "-1.0841600070332218\n",
      "-1.4583340122292632\n",
      "-1.826846993949037\n",
      "-2.1897918789978634\n",
      "-2.5472620092143203\n",
      "-2.8993509712166343\n"
     ]
    }
   ],
   "source": [
    "X1 = df1.iloc[:,0:4].values\n",
    "y1 = df1.iloc[:,4].values\n",
    "lam = 0.1\n",
    "def sigmoid(Z):\n",
    "  return 1 /(1+np.exp(-Z))\n",
    "\n",
    "def loss(y1,y_hat):\n",
    "  return -np.mean(y1*np.log(y_hat) + (1-y1)*(np.log(1-y_hat))) + (lam * (np.sum(W)))\n",
    "\n",
    "W = np.zeros((4,1))\n",
    "b = np.zeros((1,1))\n",
    "\n",
    "m = len(y1)\n",
    "lr = 0.001\n",
    "for epoch in range(1000):\n",
    "  Z = np.matmul(X1,W)+b\n",
    "  A = sigmoid(Z)\n",
    "  logistic_loss = loss(y1,A)\n",
    "  dz = A - y1\n",
    "  dw = 1/m * np.matmul(X1.T,dz) + lam\n",
    "  db = np.sum(dz)\n",
    "\n",
    "  W = W - lr*dw\n",
    "  b = b - lr*db\n",
    "\n",
    "  if epoch % 100 == 0:\n",
    "    print(logistic_loss)"
   ]
  },
  {
   "cell_type": "markdown",
   "metadata": {
    "colab_type": "text",
    "id": "JQ1W1y9exgSz"
   },
   "source": [
    "\n",
    "\n",
    "Logistic regression using L2 regualrization"
   ]
  },
  {
   "cell_type": "code",
   "execution_count": 0,
   "metadata": {
    "colab": {
     "base_uri": "https://localhost:8080/",
     "height": 185
    },
    "colab_type": "code",
    "id": "IYu1xBH1xkgQ",
    "outputId": "0b14e114-3314-4d7d-c8a7-bd402e8a0a84"
   },
   "outputs": [
    {
     "name": "stdout",
     "output_type": "stream",
     "text": [
      "0.6931471805599453\n",
      "0.47138990024454835\n",
      "0.4728001972757741\n",
      "0.4755073131857974\n",
      "0.47940095317105746\n",
      "0.484377321781783\n",
      "0.4903388470463126\n",
      "0.49719390984010203\n",
      "0.5048565786415917\n",
      "0.513246349864201\n"
     ]
    }
   ],
   "source": [
    "X1 = df1.iloc[:,0:4].values\n",
    "y1 = df1.iloc[:,4].values\n",
    "lam = 0.1\n",
    "def sigmoid(Z):\n",
    "  return 1 /(1+np.exp(-Z))\n",
    "\n",
    "def loss(y1,y_hat):\n",
    "  return -np.mean(y1*np.log(y_hat) + (1-y1)*(np.log(1-y_hat))) + (lam * (np.sum(np.square(W))))\n",
    "\n",
    "W = np.zeros((4,1))\n",
    "b = np.zeros((1,1))\n",
    "\n",
    "m = len(y1)\n",
    "lr = 0.001\n",
    "for epoch in range(1000):\n",
    "  Z = np.matmul(X1,W)+b\n",
    "  A = sigmoid(Z)\n",
    "  logistic_loss = loss(y1,A)\n",
    "  dz = A - y1\n",
    "  dw = 1/m * np.matmul(X1.T,dz) + lam * W\n",
    "  db = np.sum(dz)\n",
    "\n",
    "  W = W - lr*dw\n",
    "  b = b - lr*db\n",
    "\n",
    "  if epoch % 100 == 0:\n",
    "    print(logistic_loss)"
   ]
  },
  {
   "cell_type": "markdown",
   "metadata": {
    "colab_type": "text",
    "id": "oB9SbhSCxu7q"
   },
   "source": [
    "K Means Clustering Algorithm"
   ]
  },
  {
   "cell_type": "code",
   "execution_count": 0,
   "metadata": {
    "colab": {},
    "colab_type": "code",
    "id": "vg_AmA6yxv-M"
   },
   "outputs": [],
   "source": [
    "class K_Means:\n",
    "    def __init__(self, k=2, tol=0.001, max_iter=300):\n",
    "        self.k = k\n",
    "        self.tol = tol\n",
    "        self.max_iter = max_iter\n",
    "\n",
    "    def fit(self,data):\n",
    "\n",
    "        self.centroids = {}\n",
    "\n",
    "        for i in range(self.k):\n",
    "            self.centroids[i] = data[i]\n",
    "\n",
    "        for i in range(self.max_iter):\n",
    "            self.classifications = {}\n",
    "\n",
    "            for i in range(self.k):\n",
    "                self.classifications[i] = []\n",
    "\n",
    "            for featureset in X:\n",
    "                distances = [np.linalg.norm(featureset-self.centroids[centroid]) for centroid in self.centroids]\n",
    "                classification = distances.index(min(distances))\n",
    "                self.classifications[classification].append(featureset)\n",
    "\n",
    "            prev_centroids = dict(self.centroids)\n",
    "\n",
    "            for classification in self.classifications:\n",
    "                self.centroids[classification] = np.average(self.classifications[classification],axis=0)\n",
    "\n",
    "            optimized = True\n",
    "\n",
    "            for c in self.centroids:\n",
    "                original_centroid = prev_centroids[c]\n",
    "                current_centroid = self.centroids[c]\n",
    "                if np.sum((current_centroid-original_centroid)/original_centroid*100.0) > self.tol:\n",
    "                    print(np.sum((current_centroid-original_centroid)/original_centroid*100.0))\n",
    "                    optimized = False\n",
    "\n",
    "            if optimized:\n",
    "                break\n",
    "\n",
    "    def predict(self,data):\n",
    "        distances = [np.linalg.norm(data-self.centroids[centroid]) for centroid in self.centroids]\n",
    "        classification = distances.index(min(distances))\n",
    "        return classification\n",
    "        \n",
    "colors = 10*[\"g\",\"r\",\"c\",\"b\",\"k\"]"
   ]
  },
  {
   "cell_type": "code",
   "execution_count": 0,
   "metadata": {
    "colab": {
     "base_uri": "https://localhost:8080/",
     "height": 265
    },
    "colab_type": "code",
    "id": "WgePU9WKx7Gu",
    "outputId": "bf904a44-bf54-481b-d707-37cca1847cce"
   },
   "outputs": [
    {
     "data": {
      "image/png": "[encoded data removed]",
      "text/plain": [
       "<Figure size 432x288 with 1 Axes>"
      ]
     },
     "metadata": {
      "needs_background": "light",
      "tags": []
     },
     "output_type": "display_data"
    }
   ],
   "source": [
    "X = df3.iloc[:,0:2].values\n",
    "clf = K_Means()\n",
    "clf.fit(X)\n",
    "\n",
    "for centroid in clf.centroids:\n",
    "    plt.scatter(clf.centroids[centroid][0], clf.centroids[centroid][1],\n",
    "                marker=\"o\", color=\"k\", s=150, linewidths=5)\n",
    "\n",
    "for classification in clf.classifications:\n",
    "    color = colors[classification]\n",
    "    for featureset in clf.classifications[classification]:\n",
    "        plt.scatter(featureset[0], featureset[1], marker=\"x\", color=color, s=150, linewidths=5)"
   ]
  },
  {
   "cell_type": "markdown",
   "metadata": {
    "colab_type": "text",
    "id": "tMdgpPyMyBcr"
   },
   "source": [
    "**Problem Statement 4**"
   ]
  },
  {
   "cell_type": "markdown",
   "metadata": {
    "colab_type": "text",
    "id": "8cV74sFsyGJt"
   },
   "source": [
    "Linear Regression from scratch using OOPS"
   ]
  },
  {
   "cell_type": "code",
   "execution_count": 0,
   "metadata": {
    "colab": {},
    "colab_type": "code",
    "id": "lTocoVLiySZ2"
   },
   "outputs": [],
   "source": [
    "import numpy as np\n",
    "\n",
    "class LinearRegressionModel():\n",
    "\n",
    "    def __init__(self, dataset, learning_rate, num_iterations):\n",
    "        self.dataset = np.array(dataset)\n",
    "        self.b = 0  \n",
    "        self.m = 0  \n",
    "        self.learning_rate = learning_rate\n",
    "        self.num_iterations = num_iterations\n",
    "        self.M = len(self.dataset)\n",
    "        self.total_error = 0\n",
    "\n",
    "    def apply_gradient_descent(self):\n",
    "        for i in range(self.num_iterations):\n",
    "            self.do_gradient_step()\n",
    "\n",
    "    def do_gradient_step(self):\n",
    "        b_summation = 0\n",
    "        m_summation = 0\n",
    "        for i in range(self.M):\n",
    "            x_value = self.dataset[i, 0]\n",
    "            y_value = self.dataset[i, 1]\n",
    "            b_summation += (((self.m * x_value) + self.b) - y_value) \n",
    "            m_summation += (((self.m * x_value) + self.b) - y_value) * x_value\n",
    "        self.b = self.b - (self.learning_rate * (1/self.M) * b_summation)\n",
    "        self.m = self.m - (self.learning_rate * (1/self.M) * m_summation)\n",
    "      \n",
    "    def compute_error(self):\n",
    "        for i in range(self.M):\n",
    "            x_value = self.dataset[i, 0]\n",
    "            y_value = self.dataset[i, 1]\n",
    "            self.total_error += ((self.m * x_value) + self.b) - y_value\n",
    "        return self.total_error\n",
    "\n",
    "    def __str__(self):\n",
    "        return \"Results: b: {}, m: {}, Final Total error: {}\".format(round(self.b, 2), round(self.m, 2), round(self.compute_error(), 2))\n",
    "\n",
    "    def get_prediction_based_on(self, x):\n",
    "        return round(float((self.m * x) + self.b), 2) # Type: Numpy float.\n",
    "\n",
    "def main():\n",
    "    school_dataset = np.genfromtxt(DATASET_PATH, delimiter=\",\")\n",
    "    lr = LinearRegressionModel(school_dataset, 0.0001, 1000)\n",
    "    lr.apply_gradient_descent()\n",
    "    hours = [10, 20, 30, 40, 50, 60, 70, 80, 90, 100]\n",
    "    for hour in hours:\n",
    "        print(\"Studied {} hours and got {} points.\".format(hour, lr.get_prediction_based_on(hour)))\n",
    "    print(lr)\n",
    "\n",
    "if __name__ == \"__main__\": main()"
   ]
  },
  {
   "cell_type": "markdown",
   "metadata": {
    "colab_type": "text",
    "id": "nIPWZNK3yVOr"
   },
   "source": [
    "**Logistic Regression from scratch using OOPS**"
   ]
  },
  {
   "cell_type": "code",
   "execution_count": 0,
   "metadata": {
    "colab": {},
    "colab_type": "code",
    "id": "mYQJ-0k3yTnc"
   },
   "outputs": [],
   "source": [
    "class LogisticRegression:\n",
    "  def __init__(self, learning_rate, num_iters, fit_intercept = True, verbose = False):\n",
    "    self.learning_rate = learning_rate\n",
    "    self.num_iters = num_iters\n",
    "    self.fit_intercept = fit_intercept\n",
    "    self.verbose = verbose\n",
    "  def __add_intercept(self, X):\n",
    "    intercept = np.ones((X.shape[0],1))\n",
    "    return np.concatenate((intercept,X),axis=1)\n",
    "  def __sigmoid(self,z):\n",
    "    return 1/(1+np.exp(-z))\n",
    "  def __loss(self, h, y):\n",
    "    return (-y * np.log(h) - (1-y) * np.log(1-h)).mean()\n",
    "  \n",
    "  def fit(self,X,y):\n",
    "    if self.fit_intercept:\n",
    "      X = self.__add_intercept(X)\n",
    "    self.theta = np.zeros(X.shape[1])\n",
    "    \n",
    "    for i in range(self.num_iters):\n",
    "      z = np.dot(X,self.theta)\n",
    "      h = self.__sigmoid(z)\n",
    "      gradient = np.dot(X.T,(h-y))/y.size\n",
    "      \n",
    "      self.theta -= self.learning_rate * gradient\n",
    "      \n",
    "      z = np.dot(X,self.theta)\n",
    "      h = self.__sigmoid(z)\n",
    "      loss = self.__loss(h,y)\n",
    "      \n",
    "      if self.verbose == True and i % 1000 == 0:\n",
    "        print(f'Loss: {loss}\\t')\n",
    "  def predict_probability(self,X):\n",
    "    if self.fit_intercept:\n",
    "      X = self.__add_intercept(X)\n",
    "    return self.__sigmoid(np.dot(X,self.theta))\n",
    "  def predict(self,X):\n",
    "    return (self.predict_probability(X).round())"
   ]
  },
  {
   "cell_type": "markdown",
   "metadata": {
    "colab_type": "text",
    "id": "Un4FU2ESydtx"
   },
   "source": [
    "K Means from scratch using OOPS"
   ]
  },
  {
   "cell_type": "code",
   "execution_count": 0,
   "metadata": {
    "colab": {},
    "colab_type": "code",
    "id": "GuD9n13nyn7F"
   },
   "outputs": [],
   "source": [
    "class K_Means:\n",
    "    def __init__(self, k=2, tol=0.001, max_iter=300):\n",
    "        self.k = k\n",
    "        self.tol = tol\n",
    "        self.max_iter = max_iter\n",
    "\n",
    "    def fit(self,data):\n",
    "\n",
    "        self.centroids = {}\n",
    "\n",
    "        for i in range(self.k):\n",
    "            self.centroids[i] = data[i]\n",
    "\n",
    "        for i in range(self.max_iter):\n",
    "            self.classifications = {}\n",
    "\n",
    "            for i in range(self.k):\n",
    "                self.classifications[i] = []\n",
    "\n",
    "            for featureset in X:\n",
    "                distances = [np.linalg.norm(featureset-self.centroids[centroid]) for centroid in self.centroids]\n",
    "                classification = distances.index(min(distances))\n",
    "                self.classifications[classification].append(featureset)\n",
    "\n",
    "            prev_centroids = dict(self.centroids)\n",
    "\n",
    "            for classification in self.classifications:\n",
    "                self.centroids[classification] = np.average(self.classifications[classification],axis=0)\n",
    "\n",
    "            optimized = True\n",
    "\n",
    "            for c in self.centroids:\n",
    "                original_centroid = prev_centroids[c]\n",
    "                current_centroid = self.centroids[c]\n",
    "                if np.sum((current_centroid-original_centroid)/original_centroid*100.0) > self.tol:\n",
    "                    print(np.sum((current_centroid-original_centroid)/original_centroid*100.0))\n",
    "                    optimized = False\n",
    "\n",
    "            if optimized:\n",
    "                break\n",
    "\n",
    "    def predict(self,data):\n",
    "        distances = [np.linalg.norm(data-self.centroids[centroid]) for centroid in self.centroids]\n",
    "        classification = distances.index(min(distances))\n",
    "        return classification\n",
    "        \n",
    "colors = 10*[\"g\",\"r\",\"c\",\"b\",\"k\"]"
   ]
  }
 ],
 "metadata": {
  "colab": {
   "name": "Praneeth Potnuru CSE1-Lab 10.ipynb",
   "provenance": []
  },
  "kernelspec": {
   "display_name": "Python 3",
   "language": "python",
   "name": "python3"
  },
  "language_info": {
   "codemirror_mode": {
    "name": "ipython",
    "version": 3
   },
   "file_extension": ".py",
   "mimetype": "text/x-python",
   "name": "python",
   "nbconvert_exporter": "python",
   "pygments_lexer": "ipython3",
   "version": "3.6.4"
  }
 },
 "nbformat": 4,
 "nbformat_minor": 1
}
